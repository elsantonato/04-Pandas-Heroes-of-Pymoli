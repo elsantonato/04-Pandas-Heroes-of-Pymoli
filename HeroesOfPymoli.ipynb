{
 "cells": [
  {
   "cell_type": "markdown",
   "metadata": {},
   "source": [
    "### Heroes Of Pymoli Data Analysis\n",
    "* Of the 1163 active players, the vast majority are male (84%). There also exists, a smaller, but notable proportion of female players (14%).\n",
    "\n",
    "* Our peak age demographic falls between 20-24 (44.8%) with secondary groups falling between 15-19 (18.60%) and 25-29 (13.4%).  \n",
    "-----"
   ]
  },
  {
   "cell_type": "markdown",
   "metadata": {},
   "source": [
    "### Note\n",
    "* Instructions have been included for each segment. You do not have to follow them exactly, but they are included to help you think through the steps."
   ]
  },
  {
   "cell_type": "code",
   "execution_count": 145,
   "metadata": {},
   "outputs": [
    {
     "name": "stdout",
     "output_type": "stream",
     "text": [
      "     Purchase ID               SN  Age                 Gender  Item ID  \\\n",
      "0              0          Lisim78   20                   Male      108   \n",
      "1              1      Lisovynya38   40                   Male      143   \n",
      "2              2       Ithergue48   24                   Male       92   \n",
      "3              3    Chamassasya86   24                   Male      100   \n",
      "4              4        Iskosia90   23                   Male      131   \n",
      "5              5          Yalae81   22                   Male       81   \n",
      "6              6        Itheria73   36                   Male      169   \n",
      "7              7      Iskjaskst81   20                   Male      162   \n",
      "8              8        Undjask33   22                   Male       21   \n",
      "9              9      Chanosian48   35  Other / Non-Disclosed      136   \n",
      "10            10        Inguron55   23                   Male       95   \n",
      "11            11     Haisrisuir60   23                   Male      162   \n",
      "12            12     Saelaephos52   21                   Male      116   \n",
      "13            13      Assjaskan73   22                   Male        4   \n",
      "14            14      Saesrideu94   35                   Male      165   \n",
      "15            15        Lisassa64   21                 Female       98   \n",
      "16            16        Lisirra25   20                   Male       40   \n",
      "17            17        Zontibe81   21                   Male      161   \n",
      "18            18        Reunasu60   22                 Female       82   \n",
      "19            19        Chamalo71   30                   Male       89   \n",
      "20            20     Iathenudil29   20                   Male       57   \n",
      "21            21    Phiarithdeu40   20                   Male      168   \n",
      "22            22     Siarithria38   38  Other / Non-Disclosed       24   \n",
      "23            23         Eyrian71   40                   Male      151   \n",
      "24            24          Siala43   30                   Male      141   \n",
      "25            25        Lisirra87   29                   Male      178   \n",
      "26            26       Lirtossa84   11                   Male       71   \n",
      "27            27          Eusri44    7                   Male       96   \n",
      "28            28           Aela59   21                   Male      119   \n",
      "29            29          Tyida79   24                   Male       37   \n",
      "..           ...              ...  ...                    ...      ...   \n",
      "750          750         Iljask75   22                   Male      167   \n",
      "751          751      Lisjaskan36   11                   Male      180   \n",
      "752          752    Mindjasksya61   17                   Male      112   \n",
      "753          753   Frichirranya75   36                   Male      178   \n",
      "754          754  Pheosurllorin41   23                 Female       79   \n",
      "755          755         Raesty92   12                   Male       76   \n",
      "756          756          Ilast79   20                   Male       73   \n",
      "757          757        Eratiel90   18                   Male       57   \n",
      "758          758           Iral74   21                   Male      182   \n",
      "759          759      Tyaelorap29   25                   Male       72   \n",
      "760          760       Aithelis62   21                   Male       44   \n",
      "761          761          Assim27   45                   Male       17   \n",
      "762          762           Asur53   26                   Male      110   \n",
      "763          763     Lassilsala30   21                   Male       85   \n",
      "764          764     Saedaiphos46   18                   Male      113   \n",
      "765          765          Irith83   18                   Male      130   \n",
      "766          766     Aelastirin39   23                   Male       58   \n",
      "767          767          Ilmol66    8                 Female       92   \n",
      "768          768     Assassasta79   38                   Male       92   \n",
      "769          769        Ilosian36   15                   Male      145   \n",
      "770          770       Lirtosia63   34                   Male       12   \n",
      "771          771     Iskossasda43   16                   Male       25   \n",
      "772          772           Asur53   26                   Male      136   \n",
      "773          773           Hala31   21                   Male       19   \n",
      "774          774       Jiskjask80   11                   Male      101   \n",
      "775          775       Aethedru70   21                 Female       60   \n",
      "776          776           Iral74   21                   Male      164   \n",
      "777          777       Yathecal72   20                   Male       67   \n",
      "778          778          Sisur91    7                   Male      101   \n",
      "779          779        Ennrian78   24                   Male       50   \n",
      "\n",
      "                                        Item Name  Price  \n",
      "0       Extraction, Quickblade Of Trembling Hands   3.53  \n",
      "1                               Frenzied Scimitar   1.56  \n",
      "2                                    Final Critic   4.88  \n",
      "3                                     Blindscythe   3.27  \n",
      "4                                            Fury   1.44  \n",
      "5                                       Dreamkiss   3.61  \n",
      "6          Interrogator, Blood Blade of the Queen   2.18  \n",
      "7                                   Abyssal Shard   2.67  \n",
      "8                                       Souleater    1.1  \n",
      "9                    Ghastly Adamantite Protector   3.58  \n",
      "10                          Singed Onyx Warscythe   4.74  \n",
      "11                                  Abyssal Shard   2.67  \n",
      "12                        Renewed Skeletal Katana   4.18  \n",
      "13                             Bloodlord's Fetish    1.7  \n",
      "14                    Bone Crushing Silver Skewer   4.86  \n",
      "15                    Deadline, Voice Of Subtlety   2.89  \n",
      "16                                  Second Chance   2.52  \n",
      "17                                         Devine   1.76  \n",
      "18                                        Nirvana    4.9  \n",
      "19              Blazefury, Protector of Delusions   4.64  \n",
      "20                Despair, Favor of Due Diligence    4.6  \n",
      "21            Sun Strike, Jaws of Twisted Visions   1.48  \n",
      "22                                  Warped Fetish   3.81  \n",
      "23                                      Severance    3.4  \n",
      "24                                     Persuasion   3.19  \n",
      "25   Oathbreaker, Last Hope of the Breaking Storm   4.23  \n",
      "26                                         Demise   1.61  \n",
      "27                    Blood-Forged Skeletal Spine   3.09  \n",
      "28      Stormbringer, Dark Blade of Ending Misery   4.32  \n",
      "29            Shadow Strike, Glory of Ending Hope   3.16  \n",
      "..                                            ...    ...  \n",
      "750                   Malice, Legacy of the Queen   3.61  \n",
      "751                                   Stormcaller   3.36  \n",
      "752                                  Worldbreaker    2.6  \n",
      "753  Oathbreaker, Last Hope of the Breaking Storm   4.23  \n",
      "754                           Alpha, Oath of Zeal   4.05  \n",
      "755                      Haunted Bronzed Bludgeon   3.15  \n",
      "756                                   Ritual Mace   2.05  \n",
      "757               Despair, Favor of Due Diligence    4.6  \n",
      "758                                     Toothpick   4.03  \n",
      "759                                 Winter's Bite   3.77  \n",
      "760                         Bonecarvin Battle Axe   2.38  \n",
      "761                  Lazarus, Terror of the Earth    1.7  \n",
      "762                                    Suspension   1.44  \n",
      "763                                Malificent Bag   1.75  \n",
      "764                             Solitude's Reaver   4.07  \n",
      "765                                         Alpha   2.07  \n",
      "766             Freak's Bite, Favor of Holy Might   4.14  \n",
      "767                                  Final Critic   4.88  \n",
      "768                                  Final Critic   4.88  \n",
      "769                          Fiery Glass Crusader   4.58  \n",
      "770                                         Dawne   1.02  \n",
      "771                                     Hero Cane   4.35  \n",
      "772                  Ghastly Adamantite Protector   3.58  \n",
      "773                 Pursuit, Cudgel of Necromancy   1.02  \n",
      "774                                  Final Critic   4.19  \n",
      "775                                          Wolf   3.54  \n",
      "776                              Exiled Doomblade   1.63  \n",
      "777         Celeste, Incarnation of the Corrupted   3.46  \n",
      "778                                  Final Critic   4.19  \n",
      "779                                          Dawn    4.6  \n",
      "\n",
      "[780 rows x 7 columns]\n"
     ]
    }
   ],
   "source": [
    "# import dependencies\n",
    "import pandas as pd\n",
    "import numpy as np\n",
    "\n",
    "# load file\n",
    "file = \"../Instructions/HeroesOfPymoli/Resources/purchase_data.csv\"\n",
    "\n",
    "# read file and store into pandas dataframe\n",
    "purchase_data = pd.read_csv(file)\n",
    "print(purchase_data)"
   ]
  },
  {
   "cell_type": "code",
   "execution_count": 146,
   "metadata": {},
   "outputs": [
    {
     "data": {
      "text/plain": [
       "Index(['Purchase ID', 'SN', 'Age', 'Gender', 'Item ID', 'Item Name', 'Price'], dtype='object')"
      ]
     },
     "execution_count": 146,
     "metadata": {},
     "output_type": "execute_result"
    }
   ],
   "source": [
    "# identify columns\n",
    "purchase_data.columns"
   ]
  },
  {
   "cell_type": "markdown",
   "metadata": {},
   "source": [
    "## Player Count"
   ]
  },
  {
   "cell_type": "markdown",
   "metadata": {},
   "source": [
    "* Display the total number of players\n"
   ]
  },
  {
   "cell_type": "code",
   "execution_count": 147,
   "metadata": {},
   "outputs": [
    {
     "name": "stdout",
     "output_type": "stream",
     "text": [
      "780\n"
     ]
    }
   ],
   "source": [
    "# count players\n",
    "print(len(purchase_data))"
   ]
  },
  {
   "cell_type": "markdown",
   "metadata": {},
   "source": [
    "## Purchasing Analysis (Total)"
   ]
  },
  {
   "cell_type": "markdown",
   "metadata": {},
   "source": [
    "* Run basic calculations to obtain number of unique items, average price, etc.\n",
    "\n",
    "\n",
    "* Create a summary data frame to hold the results\n",
    "\n",
    "\n",
    "* Optional: give the displayed data cleaner formatting\n",
    "\n",
    "\n",
    "* Display the summary data frame\n"
   ]
  },
  {
   "cell_type": "code",
   "execution_count": 150,
   "metadata": {
    "scrolled": true
   },
   "outputs": [
    {
     "data": {
      "text/html": [
       "<div>\n",
       "<style scoped>\n",
       "    .dataframe tbody tr th:only-of-type {\n",
       "        vertical-align: middle;\n",
       "    }\n",
       "\n",
       "    .dataframe tbody tr th {\n",
       "        vertical-align: top;\n",
       "    }\n",
       "\n",
       "    .dataframe thead th {\n",
       "        text-align: right;\n",
       "    }\n",
       "</style>\n",
       "<table border=\"1\" class=\"dataframe\">\n",
       "  <thead>\n",
       "    <tr style=\"text-align: right;\">\n",
       "      <th></th>\n",
       "      <th>Number of Unique Items</th>\n",
       "      <th>Average Price</th>\n",
       "      <th>Number of Purchases</th>\n",
       "      <th>Total Revenue</th>\n",
       "    </tr>\n",
       "  </thead>\n",
       "  <tbody>\n",
       "    <tr>\n",
       "      <th>0</th>\n",
       "      <td>183</td>\n",
       "      <td>$3.05</td>\n",
       "      <td>780</td>\n",
       "      <td>$2,379.77</td>\n",
       "    </tr>\n",
       "  </tbody>\n",
       "</table>\n",
       "</div>"
      ],
      "text/plain": [
       "   Number of Unique Items Average Price  Number of Purchases Total Revenue\n",
       "0                     183         $3.05                  780     $2,379.77"
      ]
     },
     "execution_count": 150,
     "metadata": {},
     "output_type": "execute_result"
    }
   ],
   "source": [
    "# calculate totals\n",
    "total_items = len(purchase_data['Item ID'].value_counts())\n",
    "average_price = round(purchase_data[\"Price\"].mean(), 2)\n",
    "total_purchases = purchase_data['Item Name'].count()\n",
    "total_revenue = purchase_data[\"Price\"].sum()\n",
    "\n",
    "# create dataframe\n",
    "purchasing_analysis = pd.DataFrame({\"Number of Unique Items\": [total_items],\n",
    "                                           \"Average Price\": [\"$\" + str(average_price)],\n",
    "                                           \"Number of Purchases\": [total_purchases],\n",
    "                                           \"Total Revenue\": [\"$\" + str('{:,}'.format(total_revenue))]})\n",
    "# print dataframe\n",
    "purchasing_analysis"
   ]
  },
  {
   "cell_type": "markdown",
   "metadata": {},
   "source": [
    "## Gender Demographics"
   ]
  },
  {
   "cell_type": "markdown",
   "metadata": {},
   "source": [
    "* Percentage and Count of Male Players\n",
    "\n",
    "\n",
    "* Percentage and Count of Female Players\n",
    "\n",
    "\n",
    "* Percentage and Count of Other / Non-Disclosed\n",
    "\n",
    "\n"
   ]
  },
  {
   "cell_type": "code",
   "execution_count": 312,
   "metadata": {},
   "outputs": [
    {
     "data": {
      "text/html": [
       "<div>\n",
       "<style scoped>\n",
       "    .dataframe tbody tr th:only-of-type {\n",
       "        vertical-align: middle;\n",
       "    }\n",
       "\n",
       "    .dataframe tbody tr th {\n",
       "        vertical-align: top;\n",
       "    }\n",
       "\n",
       "    .dataframe thead th {\n",
       "        text-align: right;\n",
       "    }\n",
       "</style>\n",
       "<table border=\"1\" class=\"dataframe\">\n",
       "  <thead>\n",
       "    <tr style=\"text-align: right;\">\n",
       "      <th></th>\n",
       "      <th>Total Count</th>\n",
       "      <th>Percentage of Players</th>\n",
       "    </tr>\n",
       "    <tr>\n",
       "      <th></th>\n",
       "      <th></th>\n",
       "      <th></th>\n",
       "    </tr>\n",
       "  </thead>\n",
       "  <tbody>\n",
       "    <tr>\n",
       "      <th>Male</th>\n",
       "      <td>484</td>\n",
       "      <td>84.03</td>\n",
       "    </tr>\n",
       "    <tr>\n",
       "      <th>Female</th>\n",
       "      <td>81</td>\n",
       "      <td>14.06</td>\n",
       "    </tr>\n",
       "    <tr>\n",
       "      <th>Other/Non-Disclosed</th>\n",
       "      <td>11</td>\n",
       "      <td>1.91</td>\n",
       "    </tr>\n",
       "  </tbody>\n",
       "</table>\n",
       "</div>"
      ],
      "text/plain": [
       "                     Total Count  Percentage of Players\n",
       "                                                       \n",
       "Male                         484                  84.03\n",
       "Female                        81                  14.06\n",
       "Other/Non-Disclosed           11                   1.91"
      ]
     },
     "execution_count": 312,
     "metadata": {},
     "output_type": "execute_result"
    }
   ],
   "source": [
    "# calculate total players\n",
    "total_players = len(purchase_data['SN'].value_counts())\n",
    "\n",
    "# calculate individual player type totals\n",
    "players_male = purchase_data[purchase_data[\"Gender\"] == \"Male\"][\"SN\"].nunique()\n",
    "players_female = purchase_data[purchase_data[\"Gender\"] == \"Female\"][\"SN\"].nunique()\n",
    "players_other = total_players - players_male - players_female\n",
    "\n",
    "male = (players_male / total_players) * 100\n",
    "female = (players_female / total_players) * 100\n",
    "other = (players_other / total_players) * 100\n",
    "\n",
    "# create dataframe formatted to round off to 2 decimal points\n",
    "gender_analysis = pd.DataFrame({\"\": ['Male', 'Female', 'Other/Non-Disclosed'],\n",
    "                                \"Total Count\": [players_male, players_female, players_other],\n",
    "                                \"Percentage of Players\": [male, female, other]}).round(2)\n",
    "\n",
    "# set index and print\n",
    "gender_analysis = gender_analysis.set_index('')\n",
    "gender_analysis"
   ]
  },
  {
   "cell_type": "markdown",
   "metadata": {},
   "source": [
    "\n",
    "## Purchasing Analysis (Gender)"
   ]
  },
  {
   "cell_type": "markdown",
   "metadata": {},
   "source": [
    "* Run basic calculations to obtain purchase count, avg. purchase price, avg. purchase total per person etc. by gender\n",
    "\n",
    "\n",
    "\n",
    "\n",
    "* Create a summary data frame to hold the results\n",
    "\n",
    "\n",
    "* Optional: give the displayed data cleaner formatting\n",
    "\n",
    "\n",
    "* Display the summary data frame"
   ]
  },
  {
   "cell_type": "code",
   "execution_count": null,
   "metadata": {},
   "outputs": [],
   "source": []
  },
  {
   "cell_type": "markdown",
   "metadata": {},
   "source": [
    "## Age Demographics"
   ]
  },
  {
   "cell_type": "markdown",
   "metadata": {},
   "source": [
    "* Establish bins for ages\n",
    "\n",
    "\n",
    "* Categorize the existing players using the age bins. Hint: use pd.cut()\n",
    "\n",
    "\n",
    "* Calculate the numbers and percentages by age group\n",
    "\n",
    "\n",
    "* Create a summary data frame to hold the results\n",
    "\n",
    "\n",
    "* Optional: round the percentage column to two decimal points\n",
    "\n",
    "\n",
    "* Display Age Demographics Table\n"
   ]
  },
  {
   "cell_type": "code",
   "execution_count": null,
   "metadata": {},
   "outputs": [],
   "source": []
  },
  {
   "cell_type": "markdown",
   "metadata": {},
   "source": [
    "## Purchasing Analysis (Age)"
   ]
  },
  {
   "cell_type": "markdown",
   "metadata": {},
   "source": [
    "* Bin the purchase_data data frame by age\n",
    "\n",
    "\n",
    "* Run basic calculations to obtain purchase count, avg. purchase price, avg. purchase total per person etc. in the table below\n",
    "\n",
    "\n",
    "* Create a summary data frame to hold the results\n",
    "\n",
    "\n",
    "* Optional: give the displayed data cleaner formatting\n",
    "\n",
    "\n",
    "* Display the summary data frame"
   ]
  },
  {
   "cell_type": "code",
   "execution_count": null,
   "metadata": {},
   "outputs": [],
   "source": []
  },
  {
   "cell_type": "markdown",
   "metadata": {},
   "source": [
    "## Top Spenders"
   ]
  },
  {
   "cell_type": "markdown",
   "metadata": {},
   "source": [
    "* Run basic calculations to obtain the results in the table below\n",
    "\n",
    "\n",
    "* Create a summary data frame to hold the results\n",
    "\n",
    "\n",
    "* Sort the total purchase value column in descending order\n",
    "\n",
    "\n",
    "* Optional: give the displayed data cleaner formatting\n",
    "\n",
    "\n",
    "* Display a preview of the summary data frame\n",
    "\n"
   ]
  },
  {
   "cell_type": "code",
   "execution_count": null,
   "metadata": {},
   "outputs": [],
   "source": []
  },
  {
   "cell_type": "markdown",
   "metadata": {},
   "source": [
    "## Most Popular Items"
   ]
  },
  {
   "cell_type": "markdown",
   "metadata": {},
   "source": [
    "* Retrieve the Item ID, Item Name, and Item Price columns\n",
    "\n",
    "\n",
    "* Group by Item ID and Item Name. Perform calculations to obtain purchase count, item price, and total purchase value\n",
    "\n",
    "\n",
    "* Create a summary data frame to hold the results\n",
    "\n",
    "\n",
    "* Sort the purchase count column in descending order\n",
    "\n",
    "\n",
    "* Optional: give the displayed data cleaner formatting\n",
    "\n",
    "\n",
    "* Display a preview of the summary data frame\n",
    "\n"
   ]
  },
  {
   "cell_type": "code",
   "execution_count": null,
   "metadata": {},
   "outputs": [],
   "source": []
  },
  {
   "cell_type": "markdown",
   "metadata": {},
   "source": [
    "## Most Profitable Items"
   ]
  },
  {
   "cell_type": "markdown",
   "metadata": {},
   "source": [
    "* Sort the above table by total purchase value in descending order\n",
    "\n",
    "\n",
    "* Optional: give the displayed data cleaner formatting\n",
    "\n",
    "\n",
    "* Display a preview of the data frame\n",
    "\n"
   ]
  },
  {
   "cell_type": "code",
   "execution_count": null,
   "metadata": {
    "scrolled": true
   },
   "outputs": [],
   "source": []
  }
 ],
 "metadata": {
  "anaconda-cloud": {},
  "kernel_info": {
   "name": "python3"
  },
  "kernelspec": {
   "display_name": "Python 3",
   "language": "python",
   "name": "python3"
  },
  "language_info": {
   "codemirror_mode": {
    "name": "ipython",
    "version": 3
   },
   "file_extension": ".py",
   "mimetype": "text/x-python",
   "name": "python",
   "nbconvert_exporter": "python",
   "pygments_lexer": "ipython3",
   "version": "3.7.0"
  },
  "nteract": {
   "version": "0.2.0"
  }
 },
 "nbformat": 4,
 "nbformat_minor": 2
}
